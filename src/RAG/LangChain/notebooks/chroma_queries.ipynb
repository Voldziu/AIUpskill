{
  "cells": [
    {
      "cell_type": "markdown",
      "metadata": {
        "query_timestamp": "2025-05-27 19:04:19",
        "query_id": "CQ20250527_190419",
        "chroma_version": true
      },
      "source": [
        "# Chroma RAG Query #CQ20250527_190419 - 2025-05-27 19:04:19## QuestionWhat destinations are available?## AnswerThe available destinations are **Las Vegas** and **Dubai**.### Las Vegas:- **The Fountain Hotel**: Luxury accommodation with live entertainment, an extensive pool area, restaurants, and cocktail bars.- **The Canal Hotel**: An opulent Italian-themed resort with luxurious suite accommodation.### Dubai:- **The Creek Hotel**: A friendly boutique hotel located in the bustling Dubai Creek area.- **The Deira Hotel**: A family-run hotel in Dubai’s traditional commercial center.- **The Lost City Hotel**: Luxurious accommodation featuring an onsite waterpark and aquarium.You can book trips to these destinations at **www.margiestravel.com**.## Sources (3)### Source 1- **File**: data\\Las Vegas Brochure.pdf- **Page**: 0- **Similarity Score**: 0.460### Source 2- **File**: data\\Las Vegas Brochure.pdf- **Page**: 0- **Similarity Score**: 0.460### Source 3- **File**: data\\Dubai Brochure.pdf- **Page**: 0- **Similarity Score**: 0.478"
      ]
    },
    {
      "cell_type": "markdown",
      "metadata": {},
      "source": [
        "---"
      ]
    },
    {
      "cell_type": "markdown",
      "metadata": {
        "query_timestamp": "2025-05-27 19:04:20",
        "query_id": "CQ20250527_190420",
        "chroma_version": true
      },
      "source": [
        "# Chroma RAG Query #CQ20250527_190420 - 2025-05-27 19:04:20## QuestionTell me about Dubai hotels## AnswerMargie's Travel offers three hotel options in Dubai:1. **The Creek Hotel**: A friendly boutique hotel located in the bustling Dubai Creek area.2. **The Deira Hotel**: A family-run hotel situated in Dubai's traditional commercial center.3. **The Lost City Hotel**: Luxurious accommodation featuring an onsite waterpark and aquarium.For bookings, visit [www.margiestravel.com](http://www.margiestravel.com). (Source: \"Margie’s Travel Presents… Dubai\")## Sources (3)### Source 1- **File**: data\\Dubai Brochure.pdf- **Page**: 0- **Similarity Score**: 0.310### Source 2- **File**: data\\Dubai Brochure.pdf- **Page**: 0- **Similarity Score**: 0.310### Source 3- **File**: data\\Las Vegas Brochure.pdf- **Page**: 0- **Similarity Score**: 0.404"
      ]
    },
    {
      "cell_type": "markdown",
      "metadata": {},
      "source": [
        "---"
      ]
    },
    {
      "cell_type": "markdown",
      "metadata": {
        "query_timestamp": "2025-05-27 19:18:58",
        "query_id": "CQ20250527_191858",
        "chroma_version": true
      },
      "source": [
        "# Chroma RAG Query #CQ20250527_191858 - 2025-05-27 19:18:58## QuestionWhere can i go for vacation?## AnswerBased on the provided context documents, you can go for vacation to **Las Vegas** or **Dubai**. Here are the options:### Las Vegas:- **The Fountain Hotel**: Luxury accommodation with live entertainment, an extensive pool area, restaurants, and cocktail bars.- **The Canal Hotel**: Opulent Italian-themed resort with luxurious suite accommodation.### Dubai:- **The Creek Hotel**: Friendly boutique hotel in the bustling Dubai Creek area.- **The Deira Hotel**: Family-run hotel in Dubai’s traditional commercial center.- **The Lost City Hotel**: Luxurious accommodation with an onsite waterpark and aquarium.To book your trip to either destination, visit [www.margiestravel.com](http://www.margiestravel.com).## Sources (3)### Source 1- **File**: data\\Las Vegas Brochure.pdf- **Page**: 0- **Similarity Score**: 0.454### Source 2- **File**: data\\Las Vegas Brochure.pdf- **Page**: 0- **Similarity Score**: 0.454### Source 3- **File**: data\\Dubai Brochure.pdf- **Page**: 0- **Similarity Score**: 0.485"
      ]
    },
    {
      "cell_type": "markdown",
      "metadata": {},
      "source": [
        "---"
      ]
    },
    {
      "cell_type": "markdown",
      "metadata": {
        "query_timestamp": "2025-05-27 19:39:27",
        "query_id": "CQ20250527_193927",
        "chroma_version": true
      },
      "source": [
        "# Chroma RAG Query #CQ20250527_193927 - 2025-05-27 19:39:27",
        "",
        "## Question",
        "Kto z rodziny umarł Janowi Kochanowskiemu?",
        "",
        "## Answer",
        "Z rodziny Jana Kochanowskiego umarła jego ukochana córka Orszula (Orszuleczka). Informacja ta wynika z treści \"Trenów,\" w których Kochanowski opłakuje jej śmierć. W \"Trenie XIX albo Sen\" pojawia się wizja matki z Orszulą na ręku, co dodatkowo wskazuje na jej śmierć. ",
        "",
        "Źródło: \"Tren XIX albo Sen.\"",
        "",
        "## Sources (3)",
        "",
        "### Source 1",
        "- **File**: data-lektury\\treny.pdf",
        "- **Page**: 23",
        "- **Similarity Score**: 0.359",
        "",
        "### Source 2",
        "- **File**: data-lektury\\treny.pdf",
        "- **Page**: 22",
        "- **Similarity Score**: 0.366",
        "",
        "### Source 3",
        "- **File**: data-lektury\\treny.pdf",
        "- **Page**: 1",
        "- **Similarity Score**: 0.376",
        ""
      ]
    },
    {
      "cell_type": "markdown",
      "metadata": {},
      "source": [
        "---",
        ""
      ]
    },
    {
      "cell_type": "markdown",
      "metadata": {
        "query_timestamp": "2025-05-28 11:41:23",
        "query_id": "CQ20250528_114123",
        "chroma_version": true
      },
      "source": [
        "# Chroma RAG Query #CQ20250528_114123 - 2025-05-28 11:41:23",
        "",
        "## Question",
        "Kim jest urszulka?",
        "",
        "## Answer",
        "Urszulka (Orszula) jest córką Jana Kochanowskiego, o której śmierci poeta pisze w swoich „Trenach.” Poeta wyraża głęboki żal, ból i tęsknotę za ukochaną córką, która zmarła w młodym wieku. Urszulka jest przedstawiona jako dziecko pełne uroku i radości, które przynosiło ojcu wielką nadzieję i szczęście, ale jej przedwczesna śmierć stała się źródłem ogromnego cierpienia dla poety. W „Trenie XIII” Kochanowski nazywa ją swoją „wdzięczną Orszulą” i opisuje, jak wielką stratę odczuwa po jej odejściu, nazywając ją „duszą połowicą,” co podkreśla głębię jego miłości i bólu. ",
        "",
        "Źródła: „Tren XIX albo Sen,” „Tren XIII.”",
        "",
        "## Sources (3)",
        "",
        "### Source 1",
        "- **File**: data-lektury\\treny.pdf",
        "- **Page**: 22",
        "- **Similarity Score**: 0.376",
        "",
        "### Source 2",
        "- **File**: data-lektury\\treny.pdf",
        "- **Page**: 14",
        "- **Similarity Score**: 0.386",
        "",
        "### Source 3",
        "- **File**: data-lektury\\treny.pdf",
        "- **Page**: 14",
        "- **Similarity Score**: 0.392",
        ""
      ]
    },
    {
      "cell_type": "markdown",
      "metadata": {},
      "source": [
        "---",
        ""
      ]
    },
    {
      "cell_type": "markdown",
      "metadata": {
        "query_timestamp": "2025-05-28 11:41:53",
        "query_id": "CQ20250528_114153",
        "chroma_version": true
      },
      "source": [
        "# Chroma RAG Query #CQ20250528_114153 - 2025-05-28 11:41:53",
        "",
        "## Question",
        "Kim jest jej ojciec?",
        "",
        "## Answer",
        "Na podstawie podanych fragmentów kontekstowych, ojcem opisywanej dziewczynki (Orszuli) jest Jan Kochanowski, autor *Trenów*. Teksty te są częścią cyklu żałobnych utworów poświęconych pamięci jego zmarłej córki Orszuli.",
        "",
        "## Sources (3)",
        "",
        "### Source 1",
        "- **File**: data-lektury\\treny.pdf",
        "- **Page**: 13",
        "- **Similarity Score**: 0.388",
        "",
        "### Source 2",
        "- **File**: data-lektury\\treny.pdf",
        "- **Page**: 22",
        "- **Similarity Score**: 0.411",
        "",
        "### Source 3",
        "- **File**: data-lektury\\treny.pdf",
        "- **Page**: 8",
        "- **Similarity Score**: 0.451",
        ""
      ]
    },
    {
      "cell_type": "markdown",
      "metadata": {},
      "source": [
        "---",
        ""
      ]
    }
  ],
  "metadata": {
    "kernelspec": {
      "display_name": "Python 3",
      "language": "python",
      "name": "python3"
    },
    "language_info": {
      "name": "python",
      "version": "3.12.0"
    }
  },
  "nbformat": 4,
  "nbformat_minor": 4
}