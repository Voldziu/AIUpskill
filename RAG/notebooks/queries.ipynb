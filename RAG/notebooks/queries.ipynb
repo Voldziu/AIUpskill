{
 "cells": [
  {
   "cell_type": "markdown",
   "metadata": {
    "query_timestamp": "2025-05-27 13:27:20",
    "query_id": "Q20250527_132720"
   },
   "source": [
    "# Query #Q20250527_132720 - 2025-05-27 13:27:20                        ## Question                        What destination can i see?                        ## Answer                        Based on the provided context documents, Margie's Travel specializes in trips to the following destinations:- Dubai  - Las Vegas  - London  - New York  - San Francisco  (Source: Document 1)                        ## Sources (3)                                                ### Source 1                        - **Title**:                         - **Source**: Margies Travel Company Info.pdf                        - **Relevance Score**: 0.033                                                ## Metadata                        - **Model**: gpt-4o                        - **Temperature**: 0.6                        - **Max Tokens**: 500                        - **Documents Retrieved**: 3                        - **Response Length**: 197 characters                                                ### Source 2                        - **Title**:                         - **Source**: Dubai Brochure.pdf                        - **Relevance Score**: 0.033                                                ## Metadata                        - **Model**: gpt-4o                        - **Temperature**: 0.6                        - **Max Tokens**: 500                        - **Documents Retrieved**: 3                        - **Response Length**: 197 characters                                                ### Source 3                        - **Title**:                         - **Source**: Las Vegas Brochure.pdf                        - **Relevance Score**: 0.016                                                ## Metadata                        - **Model**: gpt-4o                        - **Temperature**: 0.6                        - **Max Tokens**: 500                        - **Documents Retrieved**: 3                        - **Response Length**: 197 characters                        "
   ]
  },
  {
   "cell_type": "markdown",
   "metadata": {},
   "source": [
    "---"
   ]
  }
 ],
 "metadata": {
  "kernelspec": {
   "display_name": "Python 3",
   "language": "python",
   "name": "python3"
  },
  "language_info": {
   "name": "python",
   "version": "3.12.0"
  }
 },
 "nbformat": 4,
 "nbformat_minor": 4
}
